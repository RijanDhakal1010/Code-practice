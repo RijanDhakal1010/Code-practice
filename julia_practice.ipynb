{
 "cells": [
  {
   "cell_type": "code",
   "execution_count": 1,
   "id": "c53286be-009b-4f52-b382-128c03813a8b",
   "metadata": {},
   "outputs": [
    {
     "data": {
      "text/plain": [
       "5-element Vector{String}:\n",
       " \".ipynb_checkpoints\"\n",
       " \"Acacia_argyrophylla_nuc.fna\"\n",
       " \"Acacia_argyrophylla_prot.pep\"\n",
       " \"Untitled.ipynb\"\n",
       " \"fasta_dicts.py\""
      ]
     },
     "execution_count": 1,
     "metadata": {},
     "output_type": "execute_result"
    }
   ],
   "source": [
    "readdir(\"/home/rijand/Desktop/Workspace/interpolate\")"
   ]
  },
  {
   "cell_type": "code",
   "execution_count": null,
   "id": "34d8b6f2-330c-4c42-8511-f9055629b77e",
   "metadata": {},
   "outputs": [],
   "source": []
  }
 ],
 "metadata": {
  "kernelspec": {
   "display_name": "Julia 1.7.3",
   "language": "julia",
   "name": "julia-1.7"
  },
  "language_info": {
   "file_extension": ".jl",
   "mimetype": "application/julia",
   "name": "julia",
   "version": "1.7.3"
  }
 },
 "nbformat": 4,
 "nbformat_minor": 5
}
