{
 "cells": [
  {
   "cell_type": "code",
   "execution_count": null,
   "id": "7ae91517-a585-42a3-b1a2-1e93a63a00f1",
   "metadata": {},
   "outputs": [],
   "source": [
    "import pandas as pd"
   ]
  },
  {
   "cell_type": "code",
   "execution_count": null,
   "id": "cfb08d90-e226-4ed5-bdbc-141ac869f9d4",
   "metadata": {},
   "outputs": [],
   "source": [
    "df = pd.read_csv('raw_data/IDs.tsv',sep='\\t')"
   ]
  },
  {
   "cell_type": "code",
   "execution_count": null,
   "id": "98c12bca-986e-4628-9209-056dae582355",
   "metadata": {},
   "outputs": [],
   "source": [
    "df1 = df.iloc[:,:2]\n",
    "df1 = df1.dropna()"
   ]
  },
  {
   "cell_type": "code",
   "execution_count": null,
   "id": "b910b1e1-db10-4e42-a267-8c6f358cdbe2",
   "metadata": {},
   "outputs": [],
   "source": [
    "df1"
   ]
  },
  {
   "cell_type": "code",
   "execution_count": null,
   "id": "c532e0b2-5682-4238-9c5b-d8f8d540b848",
   "metadata": {},
   "outputs": [],
   "source": [
    "homosporous_ferns = []\n",
    "for i in df1.itertuples():\n",
    "    homosporous_ferns.append(i[1])"
   ]
  },
  {
   "cell_type": "code",
   "execution_count": null,
   "id": "9dbfcd49-37f0-4503-a9d9-2fb85bb27206",
   "metadata": {},
   "outputs": [],
   "source": [
    "homosporous_ferns"
   ]
  },
  {
   "cell_type": "code",
   "execution_count": null,
   "id": "c31b1cde-63e8-492a-b7c9-5f9bbd36c2c0",
   "metadata": {},
   "outputs": [],
   "source": [
    "df2 = df.iloc[:,[0,2]]\n",
    "df2 = df2.dropna()"
   ]
  },
  {
   "cell_type": "code",
   "execution_count": null,
   "id": "9ef47064-1dd9-4e26-8782-6f6bd496e796",
   "metadata": {},
   "outputs": [],
   "source": [
    "df2"
   ]
  },
  {
   "cell_type": "code",
   "execution_count": null,
   "id": "d93ab36c-1dea-451e-bf6d-022a711e433b",
   "metadata": {},
   "outputs": [],
   "source": [
    "heterosporous_ferns = []\n",
    "for i in df2.itertuples():\n",
    "    heterosporous_ferns.append(i[1])"
   ]
  },
  {
   "cell_type": "code",
   "execution_count": null,
   "id": "31f6f6fd-29fb-4557-b432-8bc135a26a2d",
   "metadata": {},
   "outputs": [],
   "source": [
    "heterosporous_ferns"
   ]
  },
  {
   "cell_type": "code",
   "execution_count": null,
   "id": "6941c958-6df9-4a42-8220-738be6ca1c8e",
   "metadata": {},
   "outputs": [],
   "source": [
    "df3 = df.iloc[:,[0,3]]\n",
    "df3 = df3.dropna()"
   ]
  },
  {
   "cell_type": "code",
   "execution_count": null,
   "id": "ef6e8516-66b9-44f7-87b8-86a592a09668",
   "metadata": {},
   "outputs": [],
   "source": [
    "df3"
   ]
  },
  {
   "cell_type": "code",
   "execution_count": null,
   "id": "b18638df-a396-4940-870b-c37289a6257f",
   "metadata": {},
   "outputs": [],
   "source": [
    "Homosporous_Lycophyte = []\n",
    "for i in df3.itertuples():\n",
    "    Homosporous_Lycophyte.append(i[1])"
   ]
  },
  {
   "cell_type": "code",
   "execution_count": null,
   "id": "e045d3aa-943b-41a1-9fbc-8897b0826bc9",
   "metadata": {},
   "outputs": [],
   "source": [
    "Homosporous_Lycophyte"
   ]
  },
  {
   "cell_type": "code",
   "execution_count": null,
   "id": "b462083e-d112-4f72-bb15-47965c8ab269",
   "metadata": {},
   "outputs": [],
   "source": [
    "df4 = df.iloc[:,[0,4]]\n",
    "df4 = df4.dropna()"
   ]
  },
  {
   "cell_type": "code",
   "execution_count": null,
   "id": "0a9b5a4c-6e27-4784-8c6b-38c24dea7874",
   "metadata": {},
   "outputs": [],
   "source": [
    "df4"
   ]
  },
  {
   "cell_type": "code",
   "execution_count": null,
   "id": "83a35b10-91d8-4305-aa8a-abb049311c3b",
   "metadata": {},
   "outputs": [],
   "source": [
    "Heterosporous_Lycophyte = []\n",
    "for i in df4.itertuples():\n",
    "    Heterosporous_Lycophyte.append(i[1])"
   ]
  },
  {
   "cell_type": "code",
   "execution_count": null,
   "id": "80eb8547-ea93-4796-b225-c7e8bf87edc2",
   "metadata": {},
   "outputs": [],
   "source": [
    "Heterosporous_Lycophyte"
   ]
  },
  {
   "cell_type": "code",
   "execution_count": null,
   "id": "b9518182-ca1b-40e8-97d1-38531ca9f441",
   "metadata": {},
   "outputs": [],
   "source": [
    "df5 = pd.read_csv('raw_data/counts.tsv',sep='\\t')"
   ]
  },
  {
   "cell_type": "code",
   "execution_count": null,
   "id": "76160d48-742f-4664-b57b-17c64af2c611",
   "metadata": {},
   "outputs": [],
   "source": [
    "df6 = df5.filter(homosporous_ferns)"
   ]
  },
  {
   "cell_type": "code",
   "execution_count": null,
   "id": "704852e5-4504-4e53-86bf-8624b2cc6296",
   "metadata": {},
   "outputs": [],
   "source": [
    "df7 = df5.filter(heterosporous_ferns)"
   ]
  },
  {
   "cell_type": "code",
   "execution_count": null,
   "id": "31426a1b-1d0a-48f4-b9d4-5238f544b5e2",
   "metadata": {},
   "outputs": [],
   "source": [
    "df8 = df5.filter(Homosporous_Lycophyte)"
   ]
  },
  {
   "cell_type": "code",
   "execution_count": null,
   "id": "c45f5cf6-f771-4007-83f3-a38cd154e7b1",
   "metadata": {},
   "outputs": [],
   "source": [
    "df9 = df5.filter(Heterosporous_Lycophyte)"
   ]
  },
  {
   "cell_type": "code",
   "execution_count": null,
   "id": "2c3e99e7-39e9-406e-a0fd-826947975848",
   "metadata": {},
   "outputs": [],
   "source": [
    "df9.to_csv('Heterosporous_Lycophyte.tsv',sep='\\t')"
   ]
  },
  {
   "cell_type": "code",
   "execution_count": null,
   "id": "f65ecc6d-0132-46d3-9143-11f19433bf00",
   "metadata": {},
   "outputs": [],
   "source": [
    "df11 = pd.DataFrame()"
   ]
  },
  {
   "cell_type": "code",
   "execution_count": null,
   "id": "9ef5ce7f-44a7-45c7-be22-15238b38f35b",
   "metadata": {},
   "outputs": [],
   "source": [
    "df10['Heterosporous_Lycophyte'] = df9.mean(axis=1)"
   ]
  },
  {
   "cell_type": "code",
   "execution_count": null,
   "id": "810c7dfe-6a35-43f4-86a8-f2eb4c8c1946",
   "metadata": {},
   "outputs": [],
   "source": [
    "df11['Heterosporous_Lycophyte'] = df9.sum(axis=1)"
   ]
  },
  {
   "cell_type": "code",
   "execution_count": null,
   "id": "bf389179-b83d-43f6-85bb-ca3bee202505",
   "metadata": {},
   "outputs": [],
   "source": [
    "df10.to_csv('Four_means.tsv',sep='\\t')"
   ]
  },
  {
   "cell_type": "code",
   "execution_count": null,
   "id": "238ff429-6de9-4b0d-aa76-18951c588442",
   "metadata": {},
   "outputs": [],
   "source": [
    "df11.to_csv('Four_totals.tsv',sep='\\t')"
   ]
  },
  {
   "cell_type": "code",
   "execution_count": null,
   "id": "4840a31b-821c-4227-ac82-d41d91b6b5aa",
   "metadata": {},
   "outputs": [],
   "source": [
    "df11"
   ]
  },
  {
   "cell_type": "code",
   "execution_count": null,
   "id": "62d0e18a-f461-47d0-bce7-33f394ba8164",
   "metadata": {},
   "outputs": [],
   "source": [
    "plot = df10[['Homosporous_Lycophyte','Heterosporous_Lycophyte']].plot.line(figsize=(30, 30), fontsize=26)\n",
    "plot.set_xlabel(\"Orthogroup index label, not quite important\")\n",
    "plot.set_ylabel(\"Averages\")\n",
    "plot.figure.savefig(\"LycophyVLycophyte.pdf\")"
   ]
  },
  {
   "cell_type": "code",
   "execution_count": null,
   "id": "876c7e5c-abd0-4e35-8687-076e23a02594",
   "metadata": {},
   "outputs": [],
   "source": [
    "df12 = pd.DataFrame()"
   ]
  },
  {
   "cell_type": "code",
   "execution_count": null,
   "id": "afed4df4-c6da-46de-b7f1-758c25519afd",
   "metadata": {},
   "outputs": [],
   "source": [
    "df12"
   ]
  },
  {
   "cell_type": "code",
   "execution_count": null,
   "id": "654961a3-c946-415b-874c-493fd9a3020d",
   "metadata": {},
   "outputs": [],
   "source": [
    "df12 = df11[['homosporous_ferns','heterosporous_ferns']]"
   ]
  },
  {
   "cell_type": "code",
   "execution_count": null,
   "id": "6ecfa164-8a4a-46ee-8242-02a5cf84d0cd",
   "metadata": {},
   "outputs": [],
   "source": [
    "df12['ratio_ferns'] = df12['homosporous_ferns'] / df12['heterosporous_ferns']"
   ]
  },
  {
   "cell_type": "code",
   "execution_count": null,
   "id": "ea49aa50-065f-4ed7-9e64-365e29d99073",
   "metadata": {},
   "outputs": [],
   "source": [
    "import numpy as np"
   ]
  },
  {
   "cell_type": "code",
   "execution_count": null,
   "id": "c865f76c-c5d6-48b8-ba66-dad49c0136a1",
   "metadata": {},
   "outputs": [],
   "source": [
    "df12['ratio_ferns'].sort_values().replace([np.inf, -np.inf], np.nan, inplace=True)"
   ]
  },
  {
   "cell_type": "code",
   "execution_count": null,
   "id": "6d98c1a4-73c9-4953-99f4-70c53e1036cd",
   "metadata": {},
   "outputs": [],
   "source": [
    "df12"
   ]
  },
  {
   "cell_type": "code",
   "execution_count": null,
   "id": "a7d99842-0f11-4075-a380-4c608ce61c39",
   "metadata": {},
   "outputs": [],
   "source": [
    "df12['ratio_ferns'].dropna().sort_values().replace([np.inf, -np.inf], np.nan, inplace=True)"
   ]
  },
  {
   "cell_type": "code",
   "execution_count": null,
   "id": "e13211f2-4d2a-46a4-bfd2-453c9b4345c0",
   "metadata": {},
   "outputs": [],
   "source": [
    "df12"
   ]
  },
  {
   "cell_type": "code",
   "execution_count": null,
   "id": "840067f1-06d3-49e2-b486-8515bbf1cfca",
   "metadata": {},
   "outputs": [],
   "source": [
    "df13 = df12['ratio_ferns'].dropna()[:100].append(df12['ratio_ferns'].dropna()[-100:])"
   ]
  },
  {
   "cell_type": "code",
   "execution_count": null,
   "id": "6cd0cfc8-e0d7-462e-8775-b535322cfa76",
   "metadata": {},
   "outputs": [],
   "source": [
    "df13.to_csv('Ferns_ratio_homo_vs_hetero.tsv',sep ='\\t')"
   ]
  }
 ],
 "metadata": {
  "kernelspec": {
   "display_name": "Python 3 (ipykernel)",
   "language": "python",
   "name": "python3"
  },
  "language_info": {
   "codemirror_mode": {
    "name": "ipython",
    "version": 3
   },
   "file_extension": ".py",
   "mimetype": "text/x-python",
   "name": "python",
   "nbconvert_exporter": "python",
   "pygments_lexer": "ipython3",
   "version": "3.9.12"
  }
 },
 "nbformat": 4,
 "nbformat_minor": 5
}
