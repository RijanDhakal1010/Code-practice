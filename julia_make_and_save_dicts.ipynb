{
 "cells": [
  {
   "cell_type": "code",
   "execution_count": null,
   "id": "c53286be-009b-4f52-b382-128c03813a8b",
   "metadata": {},
   "outputs": [],
   "source": [
    "#get the list of files\n",
    "file_list_raw = readdir(\"/home/rijand/Desktop/Workspace/interpolate\")"
   ]
  },
  {
   "cell_type": "code",
   "execution_count": null,
   "id": "c993df31-fc45-4279-b60d-84714b09d57e",
   "metadata": {},
   "outputs": [],
   "source": [
    "# we will need this to get only the files we are interested in, we will use simple file suffixes to keep the files we want.\n",
    "extensions = [\".pep\"]"
   ]
  },
  {
   "cell_type": "code",
   "execution_count": null,
   "id": "8e04f1bb-f873-48d2-a40a-ab5fcd8d3e58",
   "metadata": {},
   "outputs": [],
   "source": [
    "file_list_filtered = []"
   ]
  },
  {
   "cell_type": "code",
   "execution_count": null,
   "id": "34d8b6f2-330c-4c42-8511-f9055629b77e",
   "metadata": {},
   "outputs": [],
   "source": [
    "for i in file_list_raw\n",
    "    if any(endswith.(i,extensions))\n",
    "        push!(file_list_filtered,i)\n",
    "    end\n",
    "end"
   ]
  },
  {
   "cell_type": "code",
   "execution_count": null,
   "id": "4d4c092b-f417-44e8-8d4d-9a5a8a09f609",
   "metadata": {},
   "outputs": [],
   "source": [
    "cd(\"/home/rijand/Desktop/Workspace/interpolate\")"
   ]
  },
  {
   "cell_type": "code",
   "execution_count": null,
   "id": "5b933ae5-1d0d-4780-a540-f3050abaf78b",
   "metadata": {},
   "outputs": [],
   "source": [
    "using JLD2"
   ]
  },
  {
   "cell_type": "code",
   "execution_count": null,
   "id": "7b441fa1-4026-4735-8227-94edb25ee50a",
   "metadata": {},
   "outputs": [],
   "source": [
    "function make_dict(file_name, dict_name, object_name) # here we get the name of the file, the name for the dict and the name that we will use when we save the dict to file\n",
    "    println(file_name,dict_name,object_name) # trying to see if the names are getting passed in alright and turns out they are\n",
    "    dict_name = Dict() # make a new dict with the passed file name\n",
    "    fasta_lines = readlines(file_name) # read the lines of the fasta file\n",
    "    header_range = length(fasta_lines) - 1 # this is casusing some issues moving between files and throws a boundsError\n",
    "    for i in 1:header_range \n",
    "        if startswith(fasta_lines[1],\">\")\n",
    "            header = fasta_lines[i]\n",
    "            sequence = fasta_lines[i+1]\n",
    "            dict_name[header] = sequence\n",
    "        else\n",
    "            continue\n",
    "        end\n",
    "    end\n",
    "    jldsave(object_name,dict_name)\n",
    "end\n",
    "    "
   ]
  },
  {
   "cell_type": "code",
   "execution_count": null,
   "id": "05533f5e-25d6-42f0-b8dc-27d7c326527d",
   "metadata": {},
   "outputs": [],
   "source": [
    "for i in file_list_filtered\n",
    "    l = split(i,\".\")[1]\n",
    "    extension = \".pkl\"\n",
    "    object_name = l * extension\n",
    "    make_dict(i,l,object_name)\n",
    "end\n"
   ]
  }
 ],
 "metadata": {
  "kernelspec": {
   "display_name": "Julia 1.7.3",
   "language": "julia",
   "name": "julia-1.7"
  },
  "language_info": {
   "file_extension": ".jl",
   "mimetype": "application/julia",
   "name": "julia",
   "version": "1.7.3"
  }
 },
 "nbformat": 4,
 "nbformat_minor": 5
}
