{
 "cells": [
  {
   "cell_type": "code",
   "execution_count": null,
   "id": "c53286be-009b-4f52-b382-128c03813a8b",
   "metadata": {},
   "outputs": [],
   "source": [
    "#get the list of files\n",
    "file_list_raw = readdir(\"/home/rijand/Desktop/Workspace/interpolate\")"
   ]
  },
  {
   "cell_type": "code",
   "execution_count": null,
   "id": "c993df31-fc45-4279-b60d-84714b09d57e",
   "metadata": {},
   "outputs": [],
   "source": [
    "# we will need this to get only the files we are interested in, we will use simple file suffixes to keep the files we want.\n",
    "extensions = [\".fna\",\".pep\"]"
   ]
  },
  {
   "cell_type": "code",
   "execution_count": null,
   "id": "8e04f1bb-f873-48d2-a40a-ab5fcd8d3e58",
   "metadata": {},
   "outputs": [],
   "source": [
    "file_list_filtered = []"
   ]
  },
  {
   "cell_type": "code",
   "execution_count": null,
   "id": "34d8b6f2-330c-4c42-8511-f9055629b77e",
   "metadata": {},
   "outputs": [],
   "source": [
    "for i in file_list_raw\n",
    "    if any(endswith.(i,extensions))\n",
    "        push!(file_list_filtered,i)\n",
    "    end\n",
    "end"
   ]
  },
  {
   "cell_type": "code",
   "execution_count": null,
   "id": "4d4c092b-f417-44e8-8d4d-9a5a8a09f609",
   "metadata": {},
   "outputs": [],
   "source": [
    "cd(\"/home/rijand/Desktop/Workspace/interpolate\")"
   ]
  },
  {
   "cell_type": "code",
   "execution_count": null,
   "id": "05533f5e-25d6-42f0-b8dc-27d7c326527d",
   "metadata": {},
   "outputs": [],
   "source": [
    "for i in file_list_filtered\n",
    "    l = split(i,\".\")[1]\n",
    "    println(l)\n",
    "end\n"
   ]
  }
 ],
 "metadata": {
  "kernelspec": {
   "display_name": "Julia 1.7.3",
   "language": "julia",
   "name": "julia-1.7"
  },
  "language_info": {
   "file_extension": ".jl",
   "mimetype": "application/julia",
   "name": "julia",
   "version": "1.7.3"
  }
 },
 "nbformat": 4,
 "nbformat_minor": 5
}
