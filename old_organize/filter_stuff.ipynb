{
 "cells": [
  {
   "cell_type": "code",
   "execution_count": null,
   "id": "f3a99f32-42ae-485a-a249-723deb1eb65e",
   "metadata": {},
   "outputs": [],
   "source": [
    "import pandas as pd"
   ]
  },
  {
   "cell_type": "code",
   "execution_count": null,
   "id": "d05e7a34-baf1-4eea-9220-957949f3cbf3",
   "metadata": {},
   "outputs": [],
   "source": [
    "df = pd.read_csv('Onekp_data.tsv',sep = '\\t')"
   ]
  },
  {
   "cell_type": "code",
   "execution_count": null,
   "id": "81bbab93-df7f-463c-b759-739c6a851e78",
   "metadata": {},
   "outputs": [],
   "source": [
    "df.columns"
   ]
  },
  {
   "cell_type": "code",
   "execution_count": null,
   "id": "8f74a65d-ff7f-4ccd-a88b-1f95e7c79a28",
   "metadata": {},
   "outputs": [],
   "source": [
    "df2 = df[['1kP_Code','Species']]"
   ]
  },
  {
   "cell_type": "code",
   "execution_count": null,
   "id": "c27076dd-ab55-4ab4-93e9-c652da288ba2",
   "metadata": {},
   "outputs": [],
   "source": [
    "df3 = pd.read_csv('The_csv_file_where_paul_picked_the_species.csv')"
   ]
  },
  {
   "cell_type": "code",
   "execution_count": null,
   "id": "405eee28-b5e1-4257-ab41-5cb1d10162a5",
   "metadata": {},
   "outputs": [],
   "source": [
    "df4 = df3[~df3['Include'].isnull()]"
   ]
  },
  {
   "cell_type": "code",
   "execution_count": null,
   "id": "0cf494d7-fc61-4f6f-bf72-080cd9e3d064",
   "metadata": {},
   "outputs": [],
   "source": [
    "paul105 = df4['Unnamed: 0']"
   ]
  },
  {
   "cell_type": "code",
   "execution_count": null,
   "id": "c59c3bf4-a299-4a3e-a092-8811536cc5b0",
   "metadata": {},
   "outputs": [],
   "source": [
    "len(paul105)"
   ]
  }
 ],
 "metadata": {
  "kernelspec": {
   "display_name": "Python 3 (ipykernel)",
   "language": "python",
   "name": "python3"
  },
  "language_info": {
   "codemirror_mode": {
    "name": "ipython",
    "version": 3
   },
   "file_extension": ".py",
   "mimetype": "text/x-python",
   "name": "python",
   "nbconvert_exporter": "python",
   "pygments_lexer": "ipython3",
   "version": "3.9.12"
  }
 },
 "nbformat": 4,
 "nbformat_minor": 5
}
