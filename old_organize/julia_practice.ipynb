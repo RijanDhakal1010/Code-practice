{
 "cells": [
  {
   "cell_type": "code",
   "execution_count": null,
   "id": "c53286be-009b-4f52-b382-128c03813a8b",
   "metadata": {},
   "outputs": [],
   "source": [
    "readdir(\"/home/rijand/Desktop/Workspace/interpolate\")"
   ]
  }
 ],
 "metadata": {
  "kernelspec": {
   "display_name": "Julia 1.7.3",
   "language": "julia",
   "name": "julia-1.7"
  },
  "language_info": {
   "file_extension": ".jl",
   "mimetype": "application/julia",
   "name": "julia",
   "version": "1.7.3"
  }
 },
 "nbformat": 4,
 "nbformat_minor": 5
}
