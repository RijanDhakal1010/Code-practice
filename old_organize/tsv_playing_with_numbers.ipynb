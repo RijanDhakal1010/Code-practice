{
 "cells": [
  {
   "cell_type": "code",
   "execution_count": null,
   "id": "e2259281-f896-4419-87c8-2b8c4bf5713a",
   "metadata": {},
   "outputs": [],
   "source": [
    "import pandas as pd"
   ]
  },
  {
   "cell_type": "code",
   "execution_count": null,
   "id": "891becca-9328-4d94-9afe-0096c9af0283",
   "metadata": {},
   "outputs": [],
   "source": [
    "df = pd.read_csv(\"Desktop/Workspace/onecount_70.tsv\",sep='\\t')"
   ]
  },
  {
   "cell_type": "code",
   "execution_count": null,
   "id": "d8069b0b-1e07-42f3-8e2b-23b85deab000",
   "metadata": {},
   "outputs": [],
   "source": [
    "max_elements = df.max(axis=1)"
   ]
  },
  {
   "cell_type": "code",
   "execution_count": null,
   "id": "ba612bb9-ea7d-475c-8820-e5061e9bbe67",
   "metadata": {},
   "outputs": [],
   "source": [
    "min_elements = df.min(axis=1)"
   ]
  },
  {
   "cell_type": "code",
   "execution_count": null,
   "id": "2e55d2da-8b29-45be-a6a4-17d6967d7d67",
   "metadata": {},
   "outputs": [],
   "source": [
    "diff = max_elements - min_elements"
   ]
  },
  {
   "cell_type": "code",
   "execution_count": null,
   "id": "f58a907d-5a61-4f6d-a3ca-ec56b1680340",
   "metadata": {},
   "outputs": [],
   "source": [
    "df['diff'] = diff"
   ]
  },
  {
   "cell_type": "code",
   "execution_count": null,
   "id": "4b6e9f65-2e00-431a-8f4e-2017e187fa81",
   "metadata": {},
   "outputs": [],
   "source": [
    "df.sort_values(by='diff',ascending=False)"
   ]
  },
  {
   "cell_type": "code",
   "execution_count": null,
   "id": "434b0012-21a5-47ec-abfc-b3b5e8cc38f3",
   "metadata": {},
   "outputs": [],
   "source": [
    "df1 = df[df['diff'] <=40]"
   ]
  },
  {
   "cell_type": "code",
   "execution_count": null,
   "id": "57df414c-00f6-465c-965d-2fcf33cbaa07",
   "metadata": {},
   "outputs": [],
   "source": [
    "df1"
   ]
  },
  {
   "cell_type": "code",
   "execution_count": null,
   "id": "26b1b81a-3a1e-4b00-98dc-18de0e4392df",
   "metadata": {},
   "outputs": [],
   "source": [
    "df1.to_csv('threshold_40_species_70.tsv',sep='\\t')"
   ]
  }
 ],
 "metadata": {
  "kernelspec": {
   "display_name": "Python 3.10.5 64-bit",
   "language": "python",
   "name": "python3"
  },
  "language_info": {
   "codemirror_mode": {
    "name": "ipython",
    "version": 3
   },
   "file_extension": ".py",
   "mimetype": "text/x-python",
   "name": "python",
   "nbconvert_exporter": "python",
   "pygments_lexer": "ipython3",
   "version": "3.10.5"
  },
  "vscode": {
   "interpreter": {
    "hash": "e7370f93d1d0cde622a1f8e1c04877d8463912d04d973331ad4851f04de6915a"
   }
  }
 },
 "nbformat": 4,
 "nbformat_minor": 5
}
