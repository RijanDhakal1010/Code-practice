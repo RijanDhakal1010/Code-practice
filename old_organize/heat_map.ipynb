{
 "cells": [
  {
   "cell_type": "code",
   "execution_count": null,
   "id": "bdb880b5-3f75-4072-a6c2-1030b8840e6c",
   "metadata": {},
   "outputs": [],
   "source": [
    "import pandas as pd"
   ]
  },
  {
   "cell_type": "code",
   "execution_count": null,
   "id": "074690d5-d821-42fc-b82b-171611e178be",
   "metadata": {},
   "outputs": [],
   "source": [
    "df = pd.read_csv('raw_data/ishomosporous.tsv',sep='\\t')"
   ]
  },
  {
   "cell_type": "code",
   "execution_count": null,
   "id": "40d7297f-a842-49bc-953a-4106c7044f0b",
   "metadata": {},
   "outputs": [],
   "source": [
    "list_of_hetero = []"
   ]
  },
  {
   "cell_type": "code",
   "execution_count": null,
   "id": "98fa0922-6e14-4f69-af5a-8d3e68391a8a",
   "metadata": {},
   "outputs": [],
   "source": [
    "len(list_of_hetero)"
   ]
  },
  {
   "cell_type": "code",
   "execution_count": null,
   "id": "82eeb783-428e-48fe-8063-b8c265dadf87",
   "metadata": {},
   "outputs": [],
   "source": [
    "df4 = df[df.isnull().any(1)] # the keepna alternative"
   ]
  },
  {
   "cell_type": "code",
   "execution_count": null,
   "id": "69b3aa03-3422-417e-b991-c051ae7bcacf",
   "metadata": {},
   "outputs": [],
   "source": [
    "for i in df4.itertuples():\n",
    "    list_of_hetero.append(i[1].rstrip().replace(' ','_'))"
   ]
  },
  {
   "cell_type": "code",
   "execution_count": null,
   "id": "68ae60a2-e747-4f86-9dd6-8123df771c58",
   "metadata": {},
   "outputs": [],
   "source": [
    "df1 = df.dropna()"
   ]
  },
  {
   "cell_type": "code",
   "execution_count": null,
   "id": "27c65a15-22cb-43fb-82b4-992402e775ac",
   "metadata": {},
   "outputs": [],
   "source": [
    "list_of_homo"
   ]
  },
  {
   "cell_type": "code",
   "execution_count": null,
   "id": "26b28ff5-2697-4bca-b32e-b13f6942b210",
   "metadata": {},
   "outputs": [],
   "source": [
    "for i in df1.itertuples():\n",
    "    list_of_species.append(i[1].rstrip().replace(' ','_'))"
   ]
  },
  {
   "cell_type": "code",
   "execution_count": null,
   "id": "8d31cc66-547a-4cf4-8d60-72bd4bc1bb23",
   "metadata": {},
   "outputs": [],
   "source": [
    "len(list_of_species)"
   ]
  },
  {
   "cell_type": "code",
   "execution_count": null,
   "id": "e8c4ab25-c01a-4eda-acda-5d9bd2f848e0",
   "metadata": {},
   "outputs": [],
   "source": [
    "list_of_species"
   ]
  },
  {
   "cell_type": "code",
   "execution_count": null,
   "id": "b981cdc6-7025-4e0f-aaaa-e9941927e9f1",
   "metadata": {},
   "outputs": [],
   "source": [
    "df2 = pd.read_csv('raw_data/counts.tsv',sep='\\t')"
   ]
  },
  {
   "cell_type": "code",
   "execution_count": null,
   "id": "0fd2cf33-7539-49bc-8c99-0f64bfe1ea68",
   "metadata": {},
   "outputs": [],
   "source": [
    "df3 = df2.filter(list_of_species) # list of homosporous species"
   ]
  },
  {
   "cell_type": "code",
   "execution_count": null,
   "id": "ed74722d-27b0-416f-a78c-8563b4d1fc8b",
   "metadata": {},
   "outputs": [],
   "source": [
    "df5 = df2.filter(list_of_hetero)"
   ]
  },
  {
   "cell_type": "code",
   "execution_count": null,
   "id": "39cbef25-b47e-4379-9f2a-388e6d248de2",
   "metadata": {},
   "outputs": [],
   "source": [
    "df5"
   ]
  },
  {
   "cell_type": "code",
   "execution_count": null,
   "id": "33f14c93-bd63-494e-8150-704a04187121",
   "metadata": {},
   "outputs": [],
   "source": [
    "df7 = pd.DataFrame()"
   ]
  },
  {
   "cell_type": "code",
   "execution_count": null,
   "id": "62255db6-4171-4249-95e4-935ee0394388",
   "metadata": {},
   "outputs": [],
   "source": [
    "df7['Homosporous_mean']=df3.mean(axis=1)"
   ]
  },
  {
   "cell_type": "code",
   "execution_count": null,
   "id": "c3652602-6f22-4bc2-85ad-6d9cf89aeb64",
   "metadata": {},
   "outputs": [],
   "source": [
    "df6 # this is the right dataframe for the total in the two groups"
   ]
  },
  {
   "cell_type": "code",
   "execution_count": null,
   "id": "6dbfa894-f121-44b7-bd89-1b88d04b08a8",
   "metadata": {},
   "outputs": [],
   "source": [
    "df6.to_csv('raw_data/total.tsv',sep='\\t')"
   ]
  },
  {
   "cell_type": "code",
   "execution_count": null,
   "id": "55ce40df-50c3-4d83-9cb7-14efd8de04cc",
   "metadata": {},
   "outputs": [],
   "source": [
    "plot = df6.plot.line(figsize=(30, 30), fontsize=26)\n",
    "plot.set_xlabel(\"Orthogroup index label, not quite important\")\n",
    "plot.set_ylabel(\"Counts\")"
   ]
  },
  {
   "cell_type": "code",
   "execution_count": null,
   "id": "b50384d5-d6e5-494c-a289-224befcc378f",
   "metadata": {},
   "outputs": [],
   "source": [
    "df6"
   ]
  },
  {
   "cell_type": "code",
   "execution_count": null,
   "id": "903c1d11-fb85-4d3f-bc6c-7f677d81532d",
   "metadata": {},
   "outputs": [],
   "source": [
    "plot.figure.savefig('raw_data/averages.pdf')"
   ]
  },
  {
   "cell_type": "code",
   "execution_count": null,
   "id": "b8a03d78-f8cf-4511-b640-8d6b8b97dc77",
   "metadata": {},
   "outputs": [],
   "source": [
    "df7"
   ]
  },
  {
   "cell_type": "code",
   "execution_count": null,
   "id": "98703cfd-b873-40b4-90f8-65e55905cf25",
   "metadata": {},
   "outputs": [],
   "source": [
    "df7.to_csv('raw_data/averages.tsv',sep='\\t')"
   ]
  },
  {
   "cell_type": "code",
   "execution_count": null,
   "id": "02353650-1f2b-4045-bddb-3623e7639084",
   "metadata": {},
   "outputs": [],
   "source": [
    "plot = df7.plot.line(figsize=(30, 30), fontsize=26)\n",
    "plot.set_xlabel(\"Orthogroup index label, not quite important\")\n",
    "plot.set_ylabel(\"Averages\")"
   ]
  },
  {
   "cell_type": "code",
   "execution_count": null,
   "id": "0ae403b0-80ff-4e7f-b4f9-93ab0976a803",
   "metadata": {},
   "outputs": [],
   "source": [
    "for i in df2.columns:\n",
    "    print(i)"
   ]
  },
  {
   "cell_type": "code",
   "execution_count": null,
   "id": "0708328d-94bd-4ce4-870c-d99d8226ec9d",
   "metadata": {},
   "outputs": [],
   "source": [
    "ratio = df6['Homosporous_total'] / df6['Heterosporous_total']"
   ]
  },
  {
   "cell_type": "code",
   "execution_count": null,
   "id": "12f04c91-6b5e-4ee8-b85a-b91589ca8c22",
   "metadata": {},
   "outputs": [],
   "source": [
    "sorted_ratio_unclean = ratio.sort_values(ascending=True)"
   ]
  },
  {
   "cell_type": "code",
   "execution_count": null,
   "id": "0028543b-3f87-41bf-8a42-31d6de913907",
   "metadata": {},
   "outputs": [],
   "source": [
    "import numpy as np"
   ]
  },
  {
   "cell_type": "code",
   "execution_count": null,
   "id": "402c668c-f1d8-4c6d-8980-f62ea60060a3",
   "metadata": {},
   "outputs": [],
   "source": [
    "sorted_ratio_unclean.replace([np.inf, -np.inf], np.nan, inplace=True)"
   ]
  },
  {
   "cell_type": "code",
   "execution_count": null,
   "id": "3f0714b1-487f-48a9-994f-455089c78526",
   "metadata": {},
   "outputs": [],
   "source": [
    "sorted_ratio = sorted_ratio_unclean.dropna()"
   ]
  },
  {
   "cell_type": "code",
   "execution_count": null,
   "id": "7a68eaa2-11b0-4dbd-99c2-fc0ce1698324",
   "metadata": {},
   "outputs": [],
   "source": [
    "largest = sorted_ratio[-100:]"
   ]
  },
  {
   "cell_type": "code",
   "execution_count": null,
   "id": "f75e4981-2e9b-472e-95ab-d045d49090df",
   "metadata": {},
   "outputs": [],
   "source": [
    "largest"
   ]
  },
  {
   "cell_type": "code",
   "execution_count": null,
   "id": "60af22c8-3463-412a-86f0-1b2ccd208d1d",
   "metadata": {},
   "outputs": [],
   "source": [
    "sorted_ratio[4055:4155]"
   ]
  },
  {
   "cell_type": "code",
   "execution_count": 198,
   "id": "c8b6e85a-9bb9-491c-a021-3557794809a5",
   "metadata": {},
   "outputs": [],
   "source": [
    "df8 = pd.DataFrame()"
   ]
  },
  {
   "cell_type": "code",
   "execution_count": 199,
   "id": "f2ada985-1428-4e79-9699-493f5242f543",
   "metadata": {},
   "outputs": [],
   "source": [
    "df8['largest'] = largest"
   ]
  },
  {
   "cell_type": "code",
   "execution_count": 200,
   "id": "6ad297f3-708e-4bb5-b05b-d3588e0d2f99",
   "metadata": {},
   "outputs": [],
   "source": [
    "df8.to_csv('largest_hundred',sep='\\t')"
   ]
  }
 ],
 "metadata": {
  "kernelspec": {
   "display_name": "Python 3 (ipykernel)",
   "language": "python",
   "name": "python3"
  },
  "language_info": {
   "codemirror_mode": {
    "name": "ipython",
    "version": 3
   },
   "file_extension": ".py",
   "mimetype": "text/x-python",
   "name": "python",
   "nbconvert_exporter": "python",
   "pygments_lexer": "ipython3",
   "version": "3.9.12"
  }
 },
 "nbformat": 4,
 "nbformat_minor": 5
}
