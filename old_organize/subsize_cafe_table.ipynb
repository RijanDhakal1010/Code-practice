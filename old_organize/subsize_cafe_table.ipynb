{
 "cells": [
  {
   "cell_type": "code",
   "execution_count": null,
   "id": "0efe62d2-f418-4928-8056-bcecdea9a9c3",
   "metadata": {},
   "outputs": [],
   "source": [
    "import pandas as pd"
   ]
  },
  {
   "cell_type": "code",
   "execution_count": null,
   "id": "0564f7ea-bc87-400b-9f33-ef930ea6ab47",
   "metadata": {},
   "outputs": [],
   "source": [
    "df = pd.read_csv('raw_data/orthogroup.tsv',sep='\\t')"
   ]
  },
  {
   "cell_type": "code",
   "execution_count": null,
   "id": "56508b87-af02-4f71-b763-46c29b9c9808",
   "metadata": {},
   "outputs": [],
   "source": [
    "df1 = df.iloc[:,:-1] # drop the total column"
   ]
  },
  {
   "cell_type": "code",
   "execution_count": null,
   "id": "0ceff582-ae5a-4b41-a088-ad172fed06cf",
   "metadata": {},
   "outputs": [],
   "source": [
    "df2 = df1[(df1.iloc[:,1:].astype(bool).sum(axis=1))>1]"
   ]
  },
  {
   "cell_type": "code",
   "execution_count": null,
   "id": "1ca56de1-0d7e-47ca-aa61-6b3d47cd8623",
   "metadata": {},
   "outputs": [],
   "source": [
    "df2"
   ]
  },
  {
   "cell_type": "code",
   "execution_count": null,
   "id": "c194d8d0-e5c1-4c75-ae91-b2248e8b9ad8",
   "metadata": {},
   "outputs": [],
   "source": [
    "diff = df2.max(axis=1) - df2.min(axis=1)"
   ]
  },
  {
   "cell_type": "code",
   "execution_count": null,
   "id": "cb895dba-c746-42e5-b8d8-03aac75dd771",
   "metadata": {},
   "outputs": [],
   "source": [
    "df2['diff'] = diff"
   ]
  },
  {
   "cell_type": "code",
   "execution_count": null,
   "id": "ae96a03c-7543-4006-bdaf-dba8f70c02e0",
   "metadata": {},
   "outputs": [],
   "source": [
    "df2.sort_values(by='diff',ascending=False)"
   ]
  },
  {
   "cell_type": "code",
   "execution_count": null,
   "id": "f33ea8f9-0e88-4670-b4a6-5c14ce7a3b9e",
   "metadata": {},
   "outputs": [],
   "source": [
    "df5 = df2[df2['diff'] >= 68]"
   ]
  },
  {
   "cell_type": "code",
   "execution_count": null,
   "id": "e1f6e967-5079-4294-8e09-cba2a309349b",
   "metadata": {},
   "outputs": [],
   "source": [
    "df4.shape"
   ]
  },
  {
   "cell_type": "code",
   "execution_count": null,
   "id": "2875edbc-f65b-4d06-8859-5dee4b4c405a",
   "metadata": {},
   "outputs": [],
   "source": [
    "df5"
   ]
  },
  {
   "cell_type": "code",
   "execution_count": null,
   "id": "290a7f4b-e87e-42e9-a852-efd411209409",
   "metadata": {},
   "outputs": [],
   "source": [
    " df5.to_csv(\"raw_data/maybe_apomorphy.tsv\",sep='\\t',index=False)"
   ]
  },
  {
   "cell_type": "code",
   "execution_count": null,
   "id": "8c507500-c6c7-43c8-b0dd-99913f0616e2",
   "metadata": {},
   "outputs": [],
   "source": [
    "df5"
   ]
  },
  {
   "cell_type": "code",
   "execution_count": null,
   "id": "8de657dc-0279-4233-80f3-f74e7fb4fd93",
   "metadata": {},
   "outputs": [],
   "source": []
  }
 ],
 "metadata": {
  "kernelspec": {
   "display_name": "Python 3 (ipykernel)",
   "language": "python",
   "name": "python3"
  },
  "language_info": {
   "codemirror_mode": {
    "name": "ipython",
    "version": 3
   },
   "file_extension": ".py",
   "mimetype": "text/x-python",
   "name": "python",
   "nbconvert_exporter": "python",
   "pygments_lexer": "ipython3",
   "version": "3.9.12"
  }
 },
 "nbformat": 4,
 "nbformat_minor": 5
}
